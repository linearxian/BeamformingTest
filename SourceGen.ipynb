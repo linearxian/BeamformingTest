{
 "cells": [
  {
   "cell_type": "code",
   "execution_count": 1,
   "metadata": {},
   "outputs": [],
   "source": [
    "#! /usr/bin/env python\n",
    "# -*- coding: utf-8 -*-\n",
    "\n",
    "from os import path\n",
    "from acoular import __file__ as bpath, MicGeom, WNoiseGenerator, PointSource,\\\n",
    " Mixer, WriteH5, TimeSamples, PowerSpectra, RectGrid, SteeringVector,\\\n",
    " BeamformerBase, BeamformerFunctional, BeamformerMusic, L_p\n",
    "from pylab import figure, plot, axis, imshow, colorbar, show\n",
    "\n",
    "# set up the parameters\n",
    "sfreq = 51200 \n",
    "duration = 1\n",
    "nsamples = duration*sfreq\n",
    "micgeofile = 'array_9.xml'\n",
    "h5savefile = 'test_signal_9_left_middle_right.h5'\n",
    "\n",
    "# generate test data, in real life this would come from an array measurement\n",
    "mg = MicGeom( from_file=micgeofile )\n",
    "n1 = WNoiseGenerator( sample_freq=sfreq, numsamples=nsamples, seed=1 )\n",
    "n2 = WNoiseGenerator( sample_freq=sfreq, numsamples=nsamples, seed=2 )\n",
    "n3 = WNoiseGenerator( sample_freq=sfreq, numsamples=nsamples, seed=3, rms=1 )\n",
    "p1 = PointSource( signal=n1, mics=mg,  loc=(2,2,0.5) )\n",
    "p2 = PointSource( signal=n2, mics=mg,  loc=(4,2,0.5) )\n",
    "p3 = PointSource( signal=n3, mics=mg,  loc=(0,2,0.5) )\n",
    "pa = Mixer( source=p1, sources=[p2, p3] )\n",
    "wh5 = WriteH5( source=pa, name=h5savefile )\n",
    "wh5.save()"
   ]
  },
  {
   "cell_type": "code",
   "execution_count": null,
   "metadata": {},
   "outputs": [],
   "source": [
    "# analyze the data and generate map\n",
    "\n",
    "ts = TimeSamples( name=h5savefile )\n",
    "ps = PowerSpectra( time_data=ts, block_size=1024, window='Hanning' )\n",
    "\n",
    "rg = RectGrid( x_min=-0.2, x_max=4,\n",
    "                       y_min=-0.2, y_max=4,\n",
    "                       z=0.5, increment=0.01 )\n",
    "st = SteeringVector( grid=rg, mics=mg, steer_type='true location', ref=[1.88,1.87,1.68] )\n",
    "bb = BeamformerBase( freq_data=ps, steer=st )\n",
    "pm = bb.synthetic(8000,3)\n",
    "Lm = L_p( pm )\n",
    "\n",
    "# show map\n",
    "imshow( Lm.T, origin='lower', vmin=Lm.max()-10, extent=rg.extend(), \\\n",
    "interpolation='bicubic')\n",
    "colorbar()\n",
    "\n",
    "# plot microphone geometry\n",
    "figure(2)\n",
    "plot(mg.mpos[0],mg.mpos[1],'o')\n",
    "axis('equal')\n",
    "\n",
    "show()"
   ]
  }
 ],
 "metadata": {
  "interpreter": {
   "hash": "e6080b32085328570fbcd4c99d7c7475759b32bcca82372dd38385fb40c08347"
  },
  "kernelspec": {
   "display_name": "Python 3.8.11 64-bit ('beam38': conda)",
   "name": "python3"
  },
  "language_info": {
   "codemirror_mode": {
    "name": "ipython",
    "version": 3
   },
   "file_extension": ".py",
   "mimetype": "text/x-python",
   "name": "python",
   "nbconvert_exporter": "python",
   "pygments_lexer": "ipython3",
   "version": "3.8.11"
  },
  "orig_nbformat": 4
 },
 "nbformat": 4,
 "nbformat_minor": 2
}
