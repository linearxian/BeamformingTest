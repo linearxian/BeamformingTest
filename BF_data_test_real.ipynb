{
 "cells": [
  {
   "cell_type": "code",
   "execution_count": null,
   "metadata": {},
   "outputs": [],
   "source": [
    "import acoular\n",
    "ts = acoular.MaskedTimeSamples( name=\"/media/xian/Data/dataset/Bekaert/h5files/45.h5\", invalid_channels=[9] )\n",
    "# ts = acoular.MaskedTimeSamples( name=\"test_signal_9.h5\", invalid_channels=[9] )\n",
    "ps = acoular.PowerSpectra( time_data=ts, block_size=1024, window=\"Hanning\" )\n",
    "from os import path\n",
    "# micgeofile = path.join(path.split(acoular.__file__)[0],'xml','array_64.xml')\n",
    "micgeofile = \"array_9.xml\"\n",
    "mg = acoular.MicGeom( from_file=micgeofile )\n",
    "rg = acoular.RectGrid( x_min=-0.2, x_max=4,\n",
    "                       y_min=-0.2, y_max=4,\n",
    "                       z=0.5, increment=0.01 )\n",
    "st = acoular.SteeringVector( grid=rg, mics=mg, steer_type='true location', ref=[1.88,1.87,1.68] )\n",
    "bb = acoular.BeamformerBase( freq_data=ps, steer=st )"
   ]
  },
  {
   "cell_type": "code",
   "execution_count": null,
   "metadata": {},
   "outputs": [],
   "source": [
    "%matplotlib inline\n",
    "import matplotlib.pyplot as plt\n",
    "Lm = acoular.L_p( bb.synthetic(8000,3) )\n",
    "plt.figure()\n",
    "plt.imshow( Lm.T, origin=\"lower\", vmin=Lm.max()-15, extent=rg.extend() )\n",
    "plt.colorbar();"
   ]
  },
  {
   "cell_type": "code",
   "execution_count": null,
   "metadata": {},
   "outputs": [],
   "source": [
    "bb.r_diag = False\n",
    "Lm = acoular.L_p( bb.synthetic(8000,3) )\n",
    "plt.figure()\n",
    "plt.imshow( Lm.T, origin=\"lower\", vmin=Lm.max()-15, extent=rg.extend() )\n",
    "plt.colorbar();"
   ]
  },
  {
   "cell_type": "code",
   "execution_count": null,
   "metadata": {},
   "outputs": [],
   "source": [
    "bf = acoular.BeamformerFunctional( freq_data=ps, steer=st, gamma=50  )\n",
    "Lm = acoular.L_p( bf.synthetic(8000,3) )\n",
    "plt.figure()\n",
    "plt.imshow( Lm.T, origin=\"lower\", vmin=Lm.max()-15, extent=rg.extend() )\n",
    "plt.colorbar();"
   ]
  },
  {
   "cell_type": "code",
   "execution_count": null,
   "metadata": {},
   "outputs": [],
   "source": [
    "# bm = acoular.BeamformerMusic( freq_data=ps, steer=st )\n",
    "# Lm = acoular.L_p( bm.synthetic(8000,3) )\n",
    "# plt.figure()\n",
    "# plt.imshow( Lm.T, origin=\"lower\", vmin=Lm.max()-15, extent=rg.extend() )\n",
    "# plt.colorbar();"
   ]
  },
  {
   "cell_type": "code",
   "execution_count": null,
   "metadata": {},
   "outputs": [],
   "source": [
    "# bs = acoular.BeamformerCleansc( freq_data=ps, steer=st )\n",
    "# Lm = acoular.L_p( bs.synthetic( 8000, 3) )\n",
    "# plt.figure()\n",
    "# plt.imshow( Lm.T, origin=\"lower\", vmin=Lm.max()-15, extent=rg.extend() )\n",
    "# plt.colorbar();"
   ]
  }
 ],
 "metadata": {
  "interpreter": {
   "hash": "e6080b32085328570fbcd4c99d7c7475759b32bcca82372dd38385fb40c08347"
  },
  "kernelspec": {
   "display_name": "Python 3.8.11 64-bit ('beam38': conda)",
   "name": "python3"
  },
  "language_info": {
   "codemirror_mode": {
    "name": "ipython",
    "version": 3
   },
   "file_extension": ".py",
   "mimetype": "text/x-python",
   "name": "python",
   "nbconvert_exporter": "python",
   "pygments_lexer": "ipython3",
   "version": "3.8.11"
  }
 },
 "nbformat": 4,
 "nbformat_minor": 2
}
