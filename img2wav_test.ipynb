{
 "cells": [
  {
   "cell_type": "code",
   "execution_count": null,
   "metadata": {},
   "outputs": [],
   "source": [
    "from os.path import dirname, join as pjoin\n",
    "from scipy.io import wavfile\n",
    "import scipy.io\n",
    "\n",
    "data_dir = pjoin('/home', 'xian', 'Documents', 'MATLAB', 'KUL')\n",
    "wav_fname = pjoin(data_dir, 'cat.wav')\n",
    "\n",
    "samplerate, data = wavfile.read(wav_fname)\n",
    "length = data.shape[0] / samplerate"
   ]
  },
  {
   "cell_type": "code",
   "execution_count": null,
   "metadata": {},
   "outputs": [],
   "source": [
    "# import matplotlib.pyplot as plt\n",
    "# import numpy as np\n",
    "\n",
    "# time = np.linspace(0., length, data.shape[0])\n",
    "# plt.plot(time, data[:], label=\"Time series\")\n",
    "# plt.legend()\n",
    "# plt.xlabel(\"Time [s]\")\n",
    "# plt.ylabel(\"Amplitude\")\n",
    "# plt.show()"
   ]
  },
  {
   "cell_type": "code",
   "execution_count": null,
   "metadata": {},
   "outputs": [],
   "source": [
    "from scipy import signal\n",
    "#from scipy.fft import fftshift\n",
    "import matplotlib.pyplot as plt\n",
    "\n",
    "fs = 48000\n",
    "f, t, Sxx = signal.spectrogram(data[:], fs, noverlap=50, nfft=1024)\n",
    "plt.pcolormesh(t, f, Sxx, shading='gouraud')\n",
    "plt.ylabel('Frequency [Hz]')\n",
    "plt.xlabel('Time [sec]')\n",
    "plt.show() # it works"
   ]
  }
 ],
 "metadata": {
  "interpreter": {
   "hash": "904d8fe716742b18e4f05247536e3aed1aa748b00d56f3c3011538cf60306035"
  },
  "kernelspec": {
   "display_name": "Python 3.8.11 64-bit ('bf_dev': conda)",
   "language": "python",
   "name": "python3"
  },
  "language_info": {
   "codemirror_mode": {
    "name": "ipython",
    "version": 3
   },
   "file_extension": ".py",
   "mimetype": "text/x-python",
   "name": "python",
   "nbconvert_exporter": "python",
   "pygments_lexer": "ipython3",
   "version": "3.8.11"
  },
  "orig_nbformat": 4
 },
 "nbformat": 4,
 "nbformat_minor": 2
}
